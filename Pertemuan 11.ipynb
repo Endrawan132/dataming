import pandas as pd
import numpy as np
import matplotlib.pyplot as plt
import seaborn as sns
%matplotlib inline
from sklearn import datasets
iris = datasets.load_iris()
df=pd.DataFrame(iris['data'])
print(df.head())
 0    1    2    3
0  5.1  3.5  1.4  0.2
1  4.9  3.0  1.4  0.2
2  4.7  3.2  1.3  0.2
3  4.6  3.1  1.5  0.2
4  5.0  3.6  1.4  0.2
In [ ]:
# Import the whiten function
from scipy.cluster.vq import whiten
scaled_data = whiten(df.to_numpy())
In [ ]:
# Import the fcluster and linkage functions
from scipy.cluster.hierarchy import fcluster, linkage
# Use the linkage() functions
distance_matrix = linkage(scaled_data, method = 'ward', metric = 'euclidean')
In [ ]:
# Import the dendrogam functions
from scipy.cluster.hierarchy import dendrogram
# Create a dendrogam
dn = dendrogram(distance_matrix)
# Display the dendogram
plt.show()
